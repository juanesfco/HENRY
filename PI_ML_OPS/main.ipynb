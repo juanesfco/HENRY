{
 "cells": [
  {
   "cell_type": "markdown",
   "metadata": {},
   "source": [
    "# In this notebook we generate the six functions that will be consulted in the API."
   ]
  },
  {
   "cell_type": "markdown",
   "metadata": {},
   "source": [
    "## Modules needed"
   ]
  },
  {
   "cell_type": "code",
   "execution_count": 3,
   "metadata": {},
   "outputs": [],
   "source": [
    "import pandas as pd\n",
    "import numpy as np"
   ]
  },
  {
   "cell_type": "markdown",
   "metadata": {},
   "source": [
    "## Root Function"
   ]
  },
  {
   "cell_type": "code",
   "execution_count": 88,
   "metadata": {},
   "outputs": [],
   "source": [
    "def root():\n",
    "    f = open(\"APIData/welcome.txt\", \"r\")\n",
    "    return print(f.read())"
   ]
  },
  {
   "cell_type": "code",
   "execution_count": 89,
   "metadata": {},
   "outputs": [
    {
     "name": "stdout",
     "output_type": "stream",
     "text": [
      "Hi! Welcome to the Henry Individial Project - Machine Learning Operations\n",
      "\n",
      "The objective of this API is to make available some information of the Steam Games Datasets. The Raw Data, alongside with all the \n",
      "processes can be found in: https://github.com/juanesfco/HENRY .\n",
      "\n",
      "This API contains 7 functions detailed below. The possible inputs of this functions can be seen in: \n",
      "\n",
      "1. User Data Function: This function takes as input the user id and returns the amount of money spent by the user, the \n",
      "                        recommendation percentage and the number of games bought.\n",
      "\n",
      "How to use it?\n",
      "If you want to know information about user_id=\"Riot-Punch\". The request will be: \n",
      "\n",
      "henryplmlops.onrender.com/userdata/?user_id=Riot-Punch\n",
      "\n",
      "2. Count Reviews Function: This function takes as input two dates and returns the amount of users that made reviews \n",
      "                            within those dates and recommendation percentage.\n",
      "\n",
      "How to use it?\n",
      "If you want to know information within date1=\"2014-03-05\" and date2=\"2014-04-05\". The request will be: \n",
      "\n",
      "henryplmlops.onrender.com/countreviews/?date1=2014-03-05&date2=2014-04-05\n",
      "\n",
      "3. Genre Function: This function takes as input the genre and returns the rank based on `PlayTimeForever` column.\n",
      "\n",
      "How to use it?\n",
      "If you want to know information about genre=\"Action\". The request will be: \n",
      "\n",
      "henryplmlops.onrender.com/genre/?genre=Action\n",
      "\n",
      "4. User for Genre Function: This function takes as input the genre and returns the top 5 user rank based on `PlayTimeForever` \n",
      "                    column, with his URL and user_id.\n",
      "\n",
      "How to use it?\n",
      "If you want to know information about genre=\"Dark\". The request will be: \n",
      "\n",
      "henryplmlops.onrender.com/userforgenre/?genre=Dark\n",
      "\n",
      "5. Developer Function: This function takes as input the developer and returns the amount of items and the percentage of free \n",
      "                        content by the developer.\n",
      "\n",
      "How to use it?\n",
      "If you want to know information about dev=\"Sacada\". The request will be: \n",
      "\n",
      "henryplmlops.onrender.com/developer/?dev=Sacada\n",
      "\n",
      "6. Sentiment Analysis Function: This function takes as input a year and returns a list of sentiment analysis of reviews of games.\n",
      "\n",
      "How to use it?\n",
      "If you want to know information about year=\"2016\". The request will be: \n",
      "\n",
      "henryplmlops.onrender.com/sentiment_analysis/?year=2016\n",
      "\n",
      "7. Game Recommendation Function: This function takes as input a game id and returns 5 similar games based on a machine learning model.\n",
      "\n",
      "How to use it?\n",
      "If you want to know recommendations about item_id=\"643980\". The request will be: \n",
      "\n",
      "henryplmlops.onrender.com/recomendacion_juego/?item_id=643980\n",
      "\n",
      "\n",
      "Thanks for using my API, any concerns can be directed to my email juan.florez@upr.edu .\n",
      "\n",
      "AUTHOR: Juan Esteban Flórez Coronel (DATAPT03)\n",
      "DATE: September 22, 2023\n"
     ]
    }
   ],
   "source": [
    "root()"
   ]
  },
  {
   "cell_type": "markdown",
   "metadata": {},
   "source": [
    "## User Data function\n",
    "\n",
    "This function takes as input the user id and returns the amount of money spent by the user, the recommendation percentage and the number of games bought."
   ]
  },
  {
   "cell_type": "code",
   "execution_count": 22,
   "metadata": {},
   "outputs": [],
   "source": [
    "def userdata(user_id: str):\n",
    "\n",
    "    ## Step 1. Import General User Items dataframe and filter using user id input\n",
    "    path = 'APIData/'\n",
    "    fn_userItems = path + 'df_userItems.csv'\n",
    "    df_userItems = pd.read_csv(fn_userItems)\n",
    "    df_userItems_i = df_userItems[df_userItems['user_id']==user_id]\n",
    "\n",
    "    # Check if user id is valid\n",
    "    if len(df_userItems_i) == 0:\n",
    "        cantidad = 0\n",
    "        cantidadItems = 0\n",
    "    else:\n",
    "        ## Step 2. Save number of items\n",
    "        cantidadItems = df_userItems_i['items_count'].values[0]\n",
    "\n",
    "        # Check if the user has items\n",
    "        if cantidadItems == 0:\n",
    "            cantidad = 0\n",
    "        else:\n",
    "            ## Step 3. Import Specific User Items dataframe\n",
    "            steam_id = df_userItems_i['steam_id'].values[0]\n",
    "            pathItems = path + 'ItemsData/'\n",
    "            fni = pathItems + 'itemsData_' + str(steam_id) + '.csv'\n",
    "            dfi = pd.read_csv(fni)\n",
    "\n",
    "            ## Step 4. Import Steam Games Dataframe\n",
    "            fn_steamGames = path + 'df_steamGames.csv'\n",
    "            df_steamGames = pd.read_csv(fn_steamGames)\n",
    "\n",
    "            ## Step 5. Calculate money spent iterating over item ids and looking for them in Steam Games Dataframe\n",
    "            I_IDS = dfi['item_id'].values\n",
    "            cantidad = 0\n",
    "            for i in I_IDS:\n",
    "                try:\n",
    "                    p = df_steamGames[df_steamGames['id']==i]['price'].values[0]\n",
    "                except:\n",
    "                    p = 0 # If game is not found, assign price of 0\n",
    "                cantidad += p\n",
    "        \n",
    "    ## Step 6. Import General User Reviews Data\n",
    "    fnReviews = path + 'df_reviews.csv'\n",
    "    dfReviews = pd.read_csv(fnReviews)\n",
    "    dfReviews_i = dfReviews[dfReviews['user_id']==user_id]\n",
    "\n",
    "    # Check if user id is valid\n",
    "    if len(dfReviews_i) == 0:\n",
    "        r = 0\n",
    "    else:\n",
    "        steam_id = dfReviews_i['steam_id'].values[0]\n",
    "        ## Step 7. Import Specific User Reviews Data\n",
    "        fnReviews_i = path + 'ReviewsData/revData_' + str(steam_id) + '.csv'\n",
    "        try:\n",
    "            dfReviews_i = pd.read_csv(fnReviews_i)\n",
    "\n",
    "            ## Step 8. Calculate recommendation percentage\n",
    "            n = len(dfReviews_i)\n",
    "            s = sum(dfReviews_i['recommend'])\n",
    "            r = n/s*100\n",
    "        except:\n",
    "            r=0\n",
    "    \n",
    "    return {\"cantidad\":cantidad.item(),\"items\":cantidadItems.item(),\"recper\":r}"
   ]
  },
  {
   "cell_type": "code",
   "execution_count": 23,
   "metadata": {},
   "outputs": [
    {
     "data": {
      "text/plain": [
       "{'cantidad': 3427.119999999979, 'items': 328, 'recper': 0}"
      ]
     },
     "execution_count": 23,
     "metadata": {},
     "output_type": "execute_result"
    }
   ],
   "source": [
    "userdata('Riot-Punch')"
   ]
  },
  {
   "cell_type": "markdown",
   "metadata": {},
   "source": [
    "## Count Reviews Function\n",
    "\n",
    "This function takes as input two dates and returns the amount of users that made reviews within those dates and recommendation percentage."
   ]
  },
  {
   "cell_type": "code",
   "execution_count": 72,
   "metadata": {},
   "outputs": [],
   "source": [
    "def countreviews(date1: str, date2: str):\n",
    "    date1 = pd.to_datetime(date1)\n",
    "    date2 = pd.to_datetime(date2)\n",
    "\n",
    "    fn_reviews_r = 'APIData/df_reviews_r.csv'\n",
    "    df_reviews_r = pd.read_csv(fn_reviews_r)\n",
    "\n",
    "    df_reviews_r_betweenDates = df_reviews_r[pd.to_datetime(df_reviews_r['posted']).between(date1,date2)]\n",
    "    n = len(df_reviews_r_betweenDates)\n",
    "\n",
    "    users = len(df_reviews_r_betweenDates.groupby('steam_id').count())\n",
    "\n",
    "    if n > 0:\n",
    "        r = sum(df_reviews_r_betweenDates['recommend'])\n",
    "        p = r/n*100\n",
    "    else:\n",
    "        p=0\n",
    "\n",
    "    return {\"UserCount\":users,\"RecPercentage\":p}    "
   ]
  },
  {
   "cell_type": "code",
   "execution_count": 67,
   "metadata": {},
   "outputs": [
    {
     "data": {
      "text/plain": [
       "{'UserCount': 1473, 'RecPercentage': 91.99057714958775}"
      ]
     },
     "execution_count": 67,
     "metadata": {},
     "output_type": "execute_result"
    }
   ],
   "source": [
    "countreviews('2014-03-05','2014-04-05')"
   ]
  },
  {
   "cell_type": "markdown",
   "metadata": {},
   "source": [
    "## Genre Function\n",
    "\n",
    "This function takes as input the genre and returns the rank based on `PlayTimeForever` column"
   ]
  },
  {
   "cell_type": "code",
   "execution_count": 32,
   "metadata": {},
   "outputs": [],
   "source": [
    "def genre(genre: str):\n",
    "    path = 'APIData/'\n",
    "    fn_genresRank = path + 'genresRank.csv'\n",
    "    df_genresRank = pd.read_csv(fn_genresRank)\n",
    "\n",
    "    genreRow = df_genresRank[df_genresRank['genre'] == genre]\n",
    "    if len(genreRow) == 0:\n",
    "        return('Not a genre (case sensitive)')\n",
    "    else:\n",
    "        rank = genreRow.index[0] + 1\n",
    "        return {\"rank\": rank.item()}"
   ]
  },
  {
   "cell_type": "code",
   "execution_count": 33,
   "metadata": {},
   "outputs": [
    {
     "data": {
      "text/plain": [
       "{'rank': 1}"
      ]
     },
     "execution_count": 33,
     "metadata": {},
     "output_type": "execute_result"
    }
   ],
   "source": [
    "genre('Action')"
   ]
  },
  {
   "cell_type": "markdown",
   "metadata": {},
   "source": [
    "## User for Genre Function\n",
    "\n",
    "This function takes as input the genre and returns the top 5 user rank based on `PlayTimeForever` column, with his URL and user_id"
   ]
  },
  {
   "cell_type": "code",
   "execution_count": 10,
   "metadata": {},
   "outputs": [],
   "source": [
    "def userforgenre(genre: str):\n",
    "    path = 'APIData/GenresData/'\n",
    "    fn_genreRank = path + 'genreData_' + genre + '.csv'\n",
    "    try:\n",
    "        df_genreRank = pd.read_csv(fn_genreRank)\n",
    "        top5 = df_genreRank.loc[0:4,'steam_id'].values\n",
    "        fn_userItems = 'APIData/df_userItems.csv'\n",
    "        df_userItems = pd.read_csv(fn_userItems)\n",
    "\n",
    "        df_top5 = df_userItems[df_userItems['steam_id'].isin(top5)].drop(columns=['items_count','steam_id'])\n",
    "        \n",
    "        if len(df_genreRank) == 0:\n",
    "            return('No Playing time')\n",
    "        else:\n",
    "            return {\"top5\": df_top5}\n",
    "    except:\n",
    "        return('Not a genre (case sensitive)')"
   ]
  },
  {
   "cell_type": "code",
   "execution_count": 11,
   "metadata": {},
   "outputs": [
    {
     "data": {
      "text/plain": [
       "{'top5':                  user_id                                           user_url\n",
       " 4915    1001101001110101      http://steamcommunity.com/id/1001101001110101\n",
       " 10898            otheldo               http://steamcommunity.com/id/otheldo\n",
       " 41509  76561198018684159  http://steamcommunity.com/profiles/76561198018...\n",
       " 43928      MaeveOfSwords         http://steamcommunity.com/id/MaeveOfSwords\n",
       " 75278  76561198084332433  http://steamcommunity.com/profiles/76561198084...}"
      ]
     },
     "execution_count": 11,
     "metadata": {},
     "output_type": "execute_result"
    }
   ],
   "source": [
    "userforgenre('Dark')"
   ]
  },
  {
   "cell_type": "markdown",
   "metadata": {},
   "source": [
    "## Developer Function\n",
    "\n",
    "This function takes as input the developer and returns the amount of items and the percentage of free content by the develope"
   ]
  },
  {
   "cell_type": "code",
   "execution_count": 79,
   "metadata": {},
   "outputs": [],
   "source": [
    "def developer(dev:str):\n",
    "    fn_steamGames = 'APIData/df_steamGames.csv'\n",
    "    df_steamGames = pd.read_csv(fn_steamGames)\n",
    "    df_steamGames_dev = df_steamGames[df_steamGames['developer'] == dev]\n",
    "    n = len(df_steamGames_dev)\n",
    "    if n == 0:\n",
    "        return('No games found of this developer')\n",
    "    else:\n",
    "        df_steamGames_dev.loc[:,'release_date'] = pd.to_datetime(df_steamGames_dev['release_date']).dt.year\n",
    "        year = df_steamGames_dev.groupby('release_date').count().index.values\n",
    "        count  = df_steamGames_dev.groupby('release_date').count()['price'].values\n",
    "        df_steamGames_dev.loc[:,'price'] = (df_steamGames_dev['price'] == 0)\n",
    "        free = df_steamGames_dev.groupby('release_date').sum()['price'].values\n",
    "        per = (free/count*100).astype(str)\n",
    "        df_ret = pd.DataFrame({'year':year.tolist(),'count':count.tolist(),'free_content':per})\n",
    "        df_ret['free_content']= df_ret['free_content'].str.slice(0,4)\n",
    "        df_ret['free_content'] = (df_ret['free_content'].values + '%').tolist()\n",
    "        return {dev:df_ret.to_dict()}\n"
   ]
  },
  {
   "cell_type": "code",
   "execution_count": 80,
   "metadata": {},
   "outputs": [
    {
     "data": {
      "text/plain": [
       "{'Sacada': {'year': {0: 2017, 1: 2018},\n",
       "  'count': {0: 17, 1: 1},\n",
       "  'free_content': {0: '0.0%', 1: '0.0%'}}}"
      ]
     },
     "execution_count": 80,
     "metadata": {},
     "output_type": "execute_result"
    }
   ],
   "source": [
    "developer('Sacada')"
   ]
  },
  {
   "cell_type": "code",
   "execution_count": null,
   "metadata": {},
   "outputs": [],
   "source": []
  },
  {
   "cell_type": "markdown",
   "metadata": {},
   "source": [
    "## Sentiment Analysis Function\n",
    "\n",
    "This function takes as input a year and returns a list of sentiment analysis of reviews of games "
   ]
  },
  {
   "cell_type": "code",
   "execution_count": 40,
   "metadata": {},
   "outputs": [],
   "source": [
    "def sentiment_analysis(year:int):\n",
    "    fn_steamGames = 'APIData/df_steamGames.csv'\n",
    "    df_steamGames = pd.read_csv(fn_steamGames)\n",
    "    df_steamGames['release_date'] = pd.to_datetime(df_steamGames['release_date']).dt.year\n",
    "    ids = df_steamGames[df_steamGames['release_date']==year]['id'].values\n",
    "\n",
    "    fn_reviews_r = 'APIData/df_reviews_r.csv'\n",
    "    df_reviews_r = pd.read_csv(fn_reviews_r)\n",
    "    df_reviews_r_ids = df_reviews_r[df_reviews_r['item_id'].isin(ids)]\n",
    "    sa_count = df_reviews_r_ids.groupby('sentiment_analysis').count()['item_id'].values\n",
    "    sa_index = df_reviews_r_ids.groupby('sentiment_analysis').count().index.values\n",
    "\n",
    "    try: \n",
    "        sa_index = np.char.replace(np.char.replace(np.char.replace(sa_index.astype(str),'0','Negative'),'1','Neutral'),'2','Positive')\n",
    "    except:\n",
    "        pass\n",
    "    rdic = {'Negative':0,'Neutral':0,'Positive':0}\n",
    "    for i in range(len(sa_index)):\n",
    "        rdic[sa_index[i]] = sa_count[i].item()\n",
    "    \n",
    "    return rdic"
   ]
  },
  {
   "cell_type": "code",
   "execution_count": 41,
   "metadata": {},
   "outputs": [
    {
     "data": {
      "text/plain": [
       "{'Negative': 881, 'Neutral': 2455, 'Positive': 2870}"
      ]
     },
     "execution_count": 41,
     "metadata": {},
     "output_type": "execute_result"
    }
   ],
   "source": [
    "sentiment_analysis(2016)"
   ]
  },
  {
   "cell_type": "markdown",
   "metadata": {},
   "source": [
    "## Game Recommendation Fucntion\n",
    "\n",
    "This function takes as input a game id and returns 5 similar games based on a machine learning model."
   ]
  },
  {
   "cell_type": "code",
   "execution_count": 16,
   "metadata": {},
   "outputs": [],
   "source": [
    "def recomendacion_juego(item_id:int):\n",
    "    fn_steamGames = 'APIData/df_steamGames.csv'\n",
    "    df_steamGames = pd.read_csv(fn_steamGames)\n",
    "\n",
    "    df_gamesNameId = df_steamGames[['id','app_name']]\n",
    "    i = df_gamesNameId[df_gamesNameId['id'] == float(item_id)].index[0]\n",
    "    name = df_gamesNameId[df_gamesNameId['id'] == float(item_id)]['app_name'].values[0]\n",
    "\n",
    "    fn_top5 = 'APIData/MLData/df_top5.csv'\n",
    "    df_top5 = pd.read_csv(fn_top5)\n",
    "    df_top5_i = df_top5.loc[:,str(i)].values\n",
    "\n",
    "    rec_names = df_gamesNameId.loc[df_top5_i,'app_name'].values\n",
    "\n",
    "\n",
    "    return {\"Based on game:\":name,\"We recommend:\":list(rec_names)}"
   ]
  },
  {
   "cell_type": "code",
   "execution_count": 17,
   "metadata": {},
   "outputs": [
    {
     "data": {
      "text/plain": [
       "{'Based on game:': 'Ironbound',\n",
       " 'We recommend:': ['Aurora Trail',\n",
       "  'Labyrinth - Starter Pack',\n",
       "  'MINDNIGHT',\n",
       "  'Immortal Empire - Starter Pack 2',\n",
       "  'Immortal Empire - Starter Pack 1']}"
      ]
     },
     "execution_count": 17,
     "metadata": {},
     "output_type": "execute_result"
    }
   ],
   "source": [
    "recomendacion_juego(643980.0)"
   ]
  }
 ],
 "metadata": {
  "kernelspec": {
   "display_name": "Python 3.11.5 64-bit",
   "language": "python",
   "name": "python3"
  },
  "language_info": {
   "codemirror_mode": {
    "name": "ipython",
    "version": 3
   },
   "file_extension": ".py",
   "mimetype": "text/x-python",
   "name": "python",
   "nbconvert_exporter": "python",
   "pygments_lexer": "ipython3",
   "version": "3.11.5"
  },
  "orig_nbformat": 4,
  "vscode": {
   "interpreter": {
    "hash": "b0fa6594d8f4cbf19f97940f81e996739fb7646882a419484c72d19e05852a7e"
   }
  }
 },
 "nbformat": 4,
 "nbformat_minor": 2
}
