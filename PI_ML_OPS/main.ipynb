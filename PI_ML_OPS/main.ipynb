{
 "cells": [
  {
   "cell_type": "markdown",
   "metadata": {},
   "source": [
    "# In this notebook we generate the six functions that will be consulted in the API."
   ]
  },
  {
   "cell_type": "markdown",
   "metadata": {},
   "source": [
    "## Modules needed"
   ]
  },
  {
   "cell_type": "code",
   "execution_count": 3,
   "metadata": {},
   "outputs": [],
   "source": [
    "import pandas as pd\n",
    "import numpy as np"
   ]
  },
  {
   "cell_type": "markdown",
   "metadata": {},
   "source": [
    "## User Data function\n",
    "\n",
    "This function takes as input the user id and returns the amount of money spent by the user, the recommendation percentage and the number of games bought."
   ]
  },
  {
   "cell_type": "code",
   "execution_count": 4,
   "metadata": {},
   "outputs": [],
   "source": [
    "def userdata(user_id: str):\n",
    "\n",
    "    ## Step 1. Import General User Items dataframe and filter using user id input\n",
    "    path = 'APIData/'\n",
    "    fn_userItems = path + 'df_userItems.csv'\n",
    "    df_userItems = pd.read_csv(fn_userItems)\n",
    "    df_userItems_i = df_userItems[df_userItems['user_id']==user_id]\n",
    "\n",
    "    # Check if user id is valid\n",
    "    if len(df_userItems_i) == 0:\n",
    "        cantidad = 0\n",
    "        cantidadItems = 0\n",
    "    else:\n",
    "        ## Step 2. Save number of items\n",
    "        cantidadItems = df_userItems_i['items_count'].values[0]\n",
    "\n",
    "        # Check if the user has items\n",
    "        if cantidadItems == 0:\n",
    "            cantidad = 0\n",
    "        else:\n",
    "            ## Step 3. Import Specific User Items dataframe\n",
    "            steam_id = df_userItems_i['steam_id'].values[0]\n",
    "            pathItems = path + 'ItemsData/'\n",
    "            fni = pathItems + 'itemsData_' + str(steam_id) + '.csv'\n",
    "            dfi = pd.read_csv(fni)\n",
    "\n",
    "            ## Step 4. Import Steam Games Dataframe\n",
    "            fn_steamGames = path + 'df_steamGames.csv'\n",
    "            df_steamGames = pd.read_csv(fn_steamGames)\n",
    "\n",
    "            ## Step 5. Calculate money spent iterating over item ids and looking for them in Steam Games Dataframe\n",
    "            I_IDS = dfi['item_id'].values\n",
    "            cantidad = 0\n",
    "            for i in I_IDS:\n",
    "                try:\n",
    "                    p = df_steamGames[df_steamGames['id']==i]['price'].values[0]\n",
    "                except:\n",
    "                    p = 0 # If game is not found, assign price of 0\n",
    "                cantidad += p\n",
    "        \n",
    "    ## Step 6. Import General User Reviews Data\n",
    "    fnReviews = path + 'df_reviews.csv'\n",
    "    dfReviews = pd.read_csv(fnReviews)\n",
    "    dfReviews_i = dfReviews[dfReviews['user_id']==user_id]\n",
    "\n",
    "    # Check if user id is valid\n",
    "    if len(dfReviews_i) == 0:\n",
    "        r = 0\n",
    "    else:\n",
    "        steam_id = dfReviews_i['steam_id'].values[0]\n",
    "        ## Step 7. Import Specific User Reviews Data\n",
    "        fnReviews_i = path + 'ReviewsData/revData_' + str(steam_id) + '.csv'\n",
    "        try:\n",
    "            dfReviews_i = pd.read_csv(fnReviews_i)\n",
    "\n",
    "            ## Step 8. Calculate recommendation percentage\n",
    "            n = len(dfReviews_i)\n",
    "            s = sum(dfReviews_i['recommend'])\n",
    "            r = n/s*100\n",
    "        except:\n",
    "            r=0\n",
    "    \n",
    "    return {\"cantidad\":cantidad.item(),\"items\":cantidadItems.item(),\"recper\":r}"
   ]
  },
  {
   "cell_type": "code",
   "execution_count": 5,
   "metadata": {},
   "outputs": [
    {
     "data": {
      "text/plain": [
       "{'cantidad': 3427.119999999979, 'items': 328, 'recper': 0}"
      ]
     },
     "execution_count": 5,
     "metadata": {},
     "output_type": "execute_result"
    }
   ],
   "source": [
    "userdata('Riot-Punch')"
   ]
  },
  {
   "cell_type": "markdown",
   "metadata": {},
   "source": [
    "## Count Reviews Function\n",
    "\n",
    "This function takes as input two dates and returns the amount of users that made reviews within those dates and recommendation percentage."
   ]
  },
  {
   "cell_type": "code",
   "execution_count": 6,
   "metadata": {},
   "outputs": [],
   "source": [
    "def countreviews(date1: str, date2: str):\n",
    "    date1 = pd.to_datetime(date1)\n",
    "    date2 = pd.to_datetime(date2)\n",
    "\n",
    "    fn_reviews = 'APIData/df_reviews.csv'\n",
    "    df_reviews = pd.read_csv(fn_reviews)\n",
    "    SIDs = df_reviews['steam_id'].values\n",
    "\n",
    "    userCount = 0\n",
    "    rr = 0\n",
    "    rt = 0\n",
    "    for s in SIDs:\n",
    "        fn_reviews_i = 'APIData/ReviewsData/revData_' + str(s) + '.csv'\n",
    "        try:\n",
    "            df_reviews_i = pd.read_csv(fn_reviews_i)\n",
    "            df_reviews_i_betweenDates = df_reviews_i[pd.to_datetime(df_reviews_i['posted']).between(date1,date2)]\n",
    "            n = len(df_reviews_i_betweenDates)\n",
    "            if n > 0:\n",
    "                userCount += 1\n",
    "                rt += n\n",
    "                rr += sum(df_reviews_i_betweenDates['recommend'])\n",
    "        except:\n",
    "            pass\n",
    "    if rt == 0:\n",
    "        rt = 1\n",
    "\n",
    "    return {\"UserCount\":userCount,\"RecPercentage\":rr/rt*100}    "
   ]
  },
  {
   "cell_type": "code",
   "execution_count": 7,
   "metadata": {},
   "outputs": [
    {
     "data": {
      "text/plain": [
       "{'UserCount': 1473, 'RecPercentage': 91.99057714958775}"
      ]
     },
     "execution_count": 7,
     "metadata": {},
     "output_type": "execute_result"
    }
   ],
   "source": [
    "countreviews('2014-03-05','2014-04-05')"
   ]
  },
  {
   "cell_type": "markdown",
   "metadata": {},
   "source": [
    "## Genre Function\n",
    "\n",
    "This function takes as input the genre and returns the rank based on `PlayTimeForever` column"
   ]
  },
  {
   "cell_type": "code",
   "execution_count": 8,
   "metadata": {},
   "outputs": [],
   "source": [
    "def genre(genre: str):\n",
    "    path = 'APIData/'\n",
    "    fn_genresRank = path + 'genresRank.csv'\n",
    "    df_genresRank = pd.read_csv(fn_genresRank)\n",
    "\n",
    "    genreRow = df_genresRank[df_genresRank['genre'] == genre]\n",
    "    if len(genreRow) == 0:\n",
    "        return('Not a genre (case sensitive)')\n",
    "    else:\n",
    "        return {\"rank\": genreRow.index[0] + 1}"
   ]
  },
  {
   "cell_type": "code",
   "execution_count": 9,
   "metadata": {},
   "outputs": [
    {
     "data": {
      "text/plain": [
       "{'rank': 1}"
      ]
     },
     "execution_count": 9,
     "metadata": {},
     "output_type": "execute_result"
    }
   ],
   "source": [
    "genre('Action')"
   ]
  },
  {
   "cell_type": "markdown",
   "metadata": {},
   "source": [
    "## User for Genre Function\n",
    "\n",
    "This function takes as input the genre and returns the top 5 user rank based on `PlayTimeForever` column, with his URL and user_id"
   ]
  },
  {
   "cell_type": "code",
   "execution_count": 10,
   "metadata": {},
   "outputs": [],
   "source": [
    "def userforgenre(genre: str):\n",
    "    path = 'APIData/GenresData/'\n",
    "    fn_genreRank = path + 'genreData_' + genre + '.csv'\n",
    "    try:\n",
    "        df_genreRank = pd.read_csv(fn_genreRank)\n",
    "        top5 = df_genreRank.loc[0:4,'steam_id'].values\n",
    "        fn_userItems = 'APIData/df_userItems.csv'\n",
    "        df_userItems = pd.read_csv(fn_userItems)\n",
    "\n",
    "        df_top5 = df_userItems[df_userItems['steam_id'].isin(top5)].drop(columns=['items_count','steam_id'])\n",
    "        \n",
    "        if len(df_genreRank) == 0:\n",
    "            return('No Playing time')\n",
    "        else:\n",
    "            return {\"top5\": df_top5}\n",
    "    except:\n",
    "        return('Not a genre (case sensitive)')"
   ]
  },
  {
   "cell_type": "code",
   "execution_count": 11,
   "metadata": {},
   "outputs": [
    {
     "data": {
      "text/plain": [
       "{'top5':                  user_id                                           user_url\n",
       " 4915    1001101001110101      http://steamcommunity.com/id/1001101001110101\n",
       " 10898            otheldo               http://steamcommunity.com/id/otheldo\n",
       " 41509  76561198018684159  http://steamcommunity.com/profiles/76561198018...\n",
       " 43928      MaeveOfSwords         http://steamcommunity.com/id/MaeveOfSwords\n",
       " 75278  76561198084332433  http://steamcommunity.com/profiles/76561198084...}"
      ]
     },
     "execution_count": 11,
     "metadata": {},
     "output_type": "execute_result"
    }
   ],
   "source": [
    "userforgenre('Dark')"
   ]
  },
  {
   "cell_type": "markdown",
   "metadata": {},
   "source": [
    "## Developer Function\n",
    "\n",
    "This function takes as input the developer and returns the amount of items and the percentage of free content by the develope"
   ]
  },
  {
   "cell_type": "code",
   "execution_count": 12,
   "metadata": {},
   "outputs": [],
   "source": [
    "def developer(dev:str):\n",
    "    fn_steamGames = 'APIData/df_steamGames.csv'\n",
    "    df_steamGames = pd.read_csv(fn_steamGames)\n",
    "    df_steamGames_dev = df_steamGames[df_steamGames['developer'] == dev]\n",
    "    n = len(df_steamGames_dev)\n",
    "    if n == 0:\n",
    "        return('No games found of this developer')\n",
    "    else:\n",
    "        df_steamGames_dev.loc[:,'release_date'] = pd.to_datetime(df_steamGames_dev['release_date']).dt.year\n",
    "        year = df_steamGames_dev.groupby('release_date').count().index.values\n",
    "        count  = df_steamGames_dev.groupby('release_date').count()['price'].values\n",
    "        df_steamGames_dev.loc[:,'price'] = (df_steamGames_dev['price'] == 0)\n",
    "        free = df_steamGames_dev.groupby('release_date').sum()['price'].values\n",
    "        per = (free/count*100).astype(str)\n",
    "        df_ret = pd.DataFrame({'year':year,'count':count,'free_content':per})\n",
    "        df_ret['free_content']= df_ret['free_content'].str.slice(0,4)\n",
    "        df_ret['free_content'] = df_ret['free_content'].values + '%'\n",
    "        return {dev:df_ret}\n"
   ]
  },
  {
   "cell_type": "code",
   "execution_count": 13,
   "metadata": {},
   "outputs": [
    {
     "data": {
      "text/plain": [
       "{'Dovetail Games':    year  count free_content\n",
       " 0  2009     22         0.0%\n",
       " 1  2010      4         0.0%\n",
       " 2  2011      4         0.0%\n",
       " 3  2012     52         0.0%\n",
       " 4  2013     39         0.0%\n",
       " 5  2014     37         0.0%\n",
       " 6  2015     50         0.0%\n",
       " 7  2016     21         0.0%\n",
       " 8  2017     24        4.16%}"
      ]
     },
     "execution_count": 13,
     "metadata": {},
     "output_type": "execute_result"
    }
   ],
   "source": [
    "developer('Dovetail Games')"
   ]
  },
  {
   "cell_type": "markdown",
   "metadata": {},
   "source": [
    "## Sentiment Analysis Function\n",
    "\n",
    "This function takes as input a year and returns a list of sentiment analysis of reviews of games "
   ]
  },
  {
   "cell_type": "code",
   "execution_count": 14,
   "metadata": {},
   "outputs": [],
   "source": [
    "def sentiment_analysis(year:int):\n",
    "    fn_steamGames = 'APIData/df_steamGames.csv'\n",
    "    df_steamGames = pd.read_csv(fn_steamGames)\n",
    "    df_steamGames['release_date'] = pd.to_datetime(df_steamGames['release_date']).dt.year\n",
    "    ids = df_steamGames[df_steamGames['release_date']==year]['id'].values\n",
    "\n",
    "    fn_reviews_r = 'APIData/df_reviews_r.csv'\n",
    "    df_reviews_r = pd.read_csv(fn_reviews_r)\n",
    "    df_reviews_r_ids = df_reviews_r[df_reviews_r['item_id'].isin(ids)]\n",
    "    sa_count = df_reviews_r_ids.groupby('sentiment_analysis').count()['item_id'].values\n",
    "    sa_index = df_reviews_r_ids.groupby('sentiment_analysis').count().index.values\n",
    "\n",
    "    try: \n",
    "        sa_index = np.char.replace(np.char.replace(np.char.replace(sa_index.astype(str),'0','Negative'),'1','Neutral'),'2','Positive')\n",
    "    except:\n",
    "        pass\n",
    "    rdic = {'Negative':0,'Neutral':0,'Positive':0}\n",
    "    for i in range(len(sa_index)):\n",
    "        rdic[sa_index[i]] = sa_count[i]\n",
    "    \n",
    "    return rdic"
   ]
  },
  {
   "cell_type": "code",
   "execution_count": 15,
   "metadata": {},
   "outputs": [
    {
     "data": {
      "text/plain": [
       "{'Negative': 881, 'Neutral': 2455, 'Positive': 2870}"
      ]
     },
     "execution_count": 15,
     "metadata": {},
     "output_type": "execute_result"
    }
   ],
   "source": [
    "sentiment_analysis(2016)"
   ]
  },
  {
   "cell_type": "markdown",
   "metadata": {},
   "source": [
    "## Game Recommendation Fucntion"
   ]
  },
  {
   "cell_type": "code",
   "execution_count": 16,
   "metadata": {},
   "outputs": [],
   "source": [
    "def recomendacion_juego(item_id:int):\n",
    "    fn_steamGames = 'APIData/df_steamGames.csv'\n",
    "    df_steamGames = pd.read_csv(fn_steamGames)\n",
    "\n",
    "    df_gamesNameId = df_steamGames[['id','app_name']]\n",
    "    i = df_gamesNameId[df_gamesNameId['id'] == float(item_id)].index[0]\n",
    "    name = df_gamesNameId[df_gamesNameId['id'] == float(item_id)]['app_name'].values[0]\n",
    "\n",
    "    fn_top5 = 'APIData/MLData/df_top5.csv'\n",
    "    df_top5 = pd.read_csv(fn_top5)\n",
    "    df_top5_i = df_top5.loc[:,str(i)].values\n",
    "\n",
    "    rec_names = df_gamesNameId.loc[df_top5_i,'app_name'].values\n",
    "\n",
    "\n",
    "    return {\"Based on game:\":name,\"We recommend:\":list(rec_names)}"
   ]
  },
  {
   "cell_type": "code",
   "execution_count": 17,
   "metadata": {},
   "outputs": [
    {
     "data": {
      "text/plain": [
       "{'Based on game:': 'Ironbound',\n",
       " 'We recommend:': ['Aurora Trail',\n",
       "  'Labyrinth - Starter Pack',\n",
       "  'MINDNIGHT',\n",
       "  'Immortal Empire - Starter Pack 2',\n",
       "  'Immortal Empire - Starter Pack 1']}"
      ]
     },
     "execution_count": 17,
     "metadata": {},
     "output_type": "execute_result"
    }
   ],
   "source": [
    "recomendacion_juego(643980.0)"
   ]
  }
 ],
 "metadata": {
  "kernelspec": {
   "display_name": "Python 3.11.5 64-bit",
   "language": "python",
   "name": "python3"
  },
  "language_info": {
   "codemirror_mode": {
    "name": "ipython",
    "version": 3
   },
   "file_extension": ".py",
   "mimetype": "text/x-python",
   "name": "python",
   "nbconvert_exporter": "python",
   "pygments_lexer": "ipython3",
   "version": "3.11.5"
  },
  "orig_nbformat": 4,
  "vscode": {
   "interpreter": {
    "hash": "b0fa6594d8f4cbf19f97940f81e996739fb7646882a419484c72d19e05852a7e"
   }
  }
 },
 "nbformat": 4,
 "nbformat_minor": 2
}
